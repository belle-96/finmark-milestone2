{
 "cells": [
  {
   "cell_type": "markdown",
   "id": "baf4f384",
   "metadata": {},
   "source": [
    "# EDA: Exploring Raw and Cleaned Transactions Data"
   ]
  },
  {
   "cell_type": "code",
   "execution_count": null,
   "id": "a2c20610",
   "metadata": {},
   "outputs": [],
   "source": [
    "import pandas as pd\n",
    "\n",
    "# Load raw data\n",
    "raw_df = pd.read_csv(\"../data/raw/transactions.csv\")\n",
    "raw_df.head()"
   ]
  },
  {
   "cell_type": "markdown",
   "id": "f607f4f3",
   "metadata": {},
   "source": [
    "### Check for missing values in raw data"
   ]
  },
  {
   "cell_type": "code",
   "execution_count": null,
   "id": "61b69cb5",
   "metadata": {},
   "outputs": [],
   "source": [
    "raw_df.isnull().sum()"
   ]
  },
  {
   "cell_type": "markdown",
   "id": "5698c983",
   "metadata": {},
   "source": [
    "### Load cleaned data"
   ]
  },
  {
   "cell_type": "code",
   "execution_count": null,
   "id": "e6d65bd5",
   "metadata": {},
   "outputs": [],
   "source": [
    "clean_df = pd.read_csv(\"../data/processed/transactions_clean.csv\")\n",
    "clean_df.head()"
   ]
  },
  {
   "cell_type": "markdown",
   "id": "04064ee1",
   "metadata": {},
   "source": [
    "### Summary statistics of cleaned data"
   ]
  },
  {
   "cell_type": "code",
   "execution_count": null,
   "id": "f3a412ba",
   "metadata": {},
   "outputs": [],
   "source": [
    "clean_df.describe()"
   ]
  },
  {
   "cell_type": "markdown",
   "id": "1fc8b391",
   "metadata": {},
   "source": [
    "### Check date range in transactions"
   ]
  },
  {
   "cell_type": "code",
   "execution_count": null,
   "id": "fd87de45",
   "metadata": {},
   "outputs": [],
   "source": [
    "pd.to_datetime(clean_df['created_at']).describe()"
   ]
  },
  {
   "cell_type": "markdown",
   "id": "1a839ec6",
   "metadata": {},
   "source": [
    "### Unique users"
   ]
  },
  {
   "cell_type": "code",
   "execution_count": null,
   "id": "2e976dcb",
   "metadata": {},
   "outputs": [],
   "source": [
    "clean_df['user_id'].nunique()"
   ]
  },
  {
   "cell_type": "markdown",
   "id": "266d65b6",
   "metadata": {},
   "source": [
    "### Notes:\n",
    "- Raw data contains missing or invalid values.\n",
    "- Cleaned data removes rows with missing `user_id`, `transaction_amount`, and invalid `created_at`.\n",
    "- Next steps could include more outlier detection or enrichment."
   ]
  }
 ],
 "metadata": {},
 "nbformat": 4,
 "nbformat_minor": 5
}